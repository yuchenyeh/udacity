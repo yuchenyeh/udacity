{
 "cells": [
  {
   "cell_type": "markdown",
   "metadata": {},
   "source": [
    "### P2: Investigate a Dataset - Titanic Data\n",
    "<b>Yuchen Yeh, Sep 2016</b>"
   ]
  },
  {
   "cell_type": "markdown",
   "metadata": {},
   "source": [
    "### Background:\n",
    "\n",
    "\n",
    "The sinking of the RMS Titanic is one of the most infamous shipwrecks in history.  On April 15, 1912, during her maiden voyage, the Titanic sank after colliding with an iceberg, killing 1502 out of 2224 passengers and crew. This sample data only contains demographics and passenger information from 891 of the 2224 passengers and crew on board the Titanic. \n",
    "\n",
    "VARIABLE DESCRIPTIONS: <br>\n",
    "survival:        Survival (0 = No; 1 = Yes)       \n",
    "pclass:          Passenger Class (1 = 1st; 2 = 2nd; 3 = 3rd)           \n",
    "name:            Name; <br> \n",
    "sex:             Sex; <br> \n",
    "age:             Age; <br> \n",
    "sibsp:           Number of Siblings/Spouses Aboard; <br> \n",
    "parch:           Number of Parents/Children Aboard; <br> \n",
    "ticket:          Ticket Number; <br> \n",
    "fare:            Passenger Fare; <br> \n",
    "cabin:           Cabin; <br> \n",
    "embarked:        Port of Embarkation (C = Cherbourg; Q = Queenstown; S = Southampton)\n",
    "                \n",
    "Reference: https://www.kaggle.com/c/titanic/data"
   ]
  },
  {
   "cell_type": "markdown",
   "metadata": {},
   "source": [
    "### Questions:\n",
    "\n",
    "In the sample data set:\n",
    "-\tWhat is the age distribution of passengers?\n",
    "-\tWhat is the distribution of fare among the passengers?\n",
    "-\tHow passengers are distributed by pclass, sex and embarked?\n",
    "-\tWhat is the age distribution in each pclass?\n",
    "-\tHow many passengers were assigned with cabins?\n",
    "-   What is the correlation between age and fare?\n",
    "-\tWere passengers aged between 0-14 (infants, toddlers and children) always travelling with parents?\n",
    "\n",
    "What variables are related to the survival rate:\n",
    "-\tIn which life stage did the passengers likely to survive?\n",
    "-\tDoes a higher fare lead to a higher survival rate?\n",
    "-\tWhich gender is likely to survive?\n",
    "\n"
   ]
  },
  {
   "cell_type": "markdown",
   "metadata": {
    "raw_mimetype": "text/html"
   },
   "source": [
    "### Stage 1: Load Data and Relevant Libraries"
   ]
  },
  {
   "cell_type": "code",
   "execution_count": 1,
   "metadata": {
    "collapsed": false
   },
   "outputs": [],
   "source": [
    "import pandas as pd\n",
    "import numpy as np\n",
    "import matplotlib.pyplot as plt\n",
    "from scipy import stats\n",
    "%matplotlib inline\n",
    "\n",
    "titanic_filename = 'titanic_data.csv'\n",
    "titanic_df = pd.read_csv(titanic_filename)"
   ]
  },
  {
   "cell_type": "markdown",
   "metadata": {},
   "source": [
    "### Stage 2: Investigate the Data"
   ]
  },
  {
   "cell_type": "code",
   "execution_count": 2,
   "metadata": {
    "collapsed": false
   },
   "outputs": [
    {
     "data": {
      "text/html": [
       "<div>\n",
       "<table border=\"1\" class=\"dataframe\">\n",
       "  <thead>\n",
       "    <tr style=\"text-align: right;\">\n",
       "      <th></th>\n",
       "      <th>PassengerId</th>\n",
       "      <th>Survived</th>\n",
       "      <th>Pclass</th>\n",
       "      <th>Name</th>\n",
       "      <th>Sex</th>\n",
       "      <th>Age</th>\n",
       "      <th>SibSp</th>\n",
       "      <th>Parch</th>\n",
       "      <th>Ticket</th>\n",
       "      <th>Fare</th>\n",
       "      <th>Cabin</th>\n",
       "      <th>Embarked</th>\n",
       "    </tr>\n",
       "  </thead>\n",
       "  <tbody>\n",
       "    <tr>\n",
       "      <th>0</th>\n",
       "      <td>1</td>\n",
       "      <td>0</td>\n",
       "      <td>3</td>\n",
       "      <td>Braund, Mr. Owen Harris</td>\n",
       "      <td>male</td>\n",
       "      <td>22.0</td>\n",
       "      <td>1</td>\n",
       "      <td>0</td>\n",
       "      <td>A/5 21171</td>\n",
       "      <td>7.25</td>\n",
       "      <td>NaN</td>\n",
       "      <td>S</td>\n",
       "    </tr>\n",
       "    <tr>\n",
       "      <th>1</th>\n",
       "      <td>2</td>\n",
       "      <td>1</td>\n",
       "      <td>1</td>\n",
       "      <td>Cumings, Mrs. John Bradley (Florence Briggs Th...</td>\n",
       "      <td>female</td>\n",
       "      <td>38.0</td>\n",
       "      <td>1</td>\n",
       "      <td>0</td>\n",
       "      <td>PC 17599</td>\n",
       "      <td>71.28</td>\n",
       "      <td>C85</td>\n",
       "      <td>C</td>\n",
       "    </tr>\n",
       "    <tr>\n",
       "      <th>2</th>\n",
       "      <td>3</td>\n",
       "      <td>1</td>\n",
       "      <td>3</td>\n",
       "      <td>Heikkinen, Miss. Laina</td>\n",
       "      <td>female</td>\n",
       "      <td>26.0</td>\n",
       "      <td>0</td>\n",
       "      <td>0</td>\n",
       "      <td>STON/O2. 3101282</td>\n",
       "      <td>7.93</td>\n",
       "      <td>NaN</td>\n",
       "      <td>S</td>\n",
       "    </tr>\n",
       "    <tr>\n",
       "      <th>3</th>\n",
       "      <td>4</td>\n",
       "      <td>1</td>\n",
       "      <td>1</td>\n",
       "      <td>Futrelle, Mrs. Jacques Heath (Lily May Peel)</td>\n",
       "      <td>female</td>\n",
       "      <td>35.0</td>\n",
       "      <td>1</td>\n",
       "      <td>0</td>\n",
       "      <td>113803</td>\n",
       "      <td>53.10</td>\n",
       "      <td>C123</td>\n",
       "      <td>S</td>\n",
       "    </tr>\n",
       "    <tr>\n",
       "      <th>4</th>\n",
       "      <td>5</td>\n",
       "      <td>0</td>\n",
       "      <td>3</td>\n",
       "      <td>Allen, Mr. William Henry</td>\n",
       "      <td>male</td>\n",
       "      <td>35.0</td>\n",
       "      <td>0</td>\n",
       "      <td>0</td>\n",
       "      <td>373450</td>\n",
       "      <td>8.05</td>\n",
       "      <td>NaN</td>\n",
       "      <td>S</td>\n",
       "    </tr>\n",
       "  </tbody>\n",
       "</table>\n",
       "</div>"
      ],
      "text/plain": [
       "   PassengerId  Survived  Pclass  \\\n",
       "0            1         0       3   \n",
       "1            2         1       1   \n",
       "2            3         1       3   \n",
       "3            4         1       1   \n",
       "4            5         0       3   \n",
       "\n",
       "                                                Name     Sex   Age  SibSp  \\\n",
       "0                            Braund, Mr. Owen Harris    male  22.0      1   \n",
       "1  Cumings, Mrs. John Bradley (Florence Briggs Th...  female  38.0      1   \n",
       "2                             Heikkinen, Miss. Laina  female  26.0      0   \n",
       "3       Futrelle, Mrs. Jacques Heath (Lily May Peel)  female  35.0      1   \n",
       "4                           Allen, Mr. William Henry    male  35.0      0   \n",
       "\n",
       "   Parch            Ticket   Fare Cabin Embarked  \n",
       "0      0         A/5 21171   7.25   NaN        S  \n",
       "1      0          PC 17599  71.28   C85        C  \n",
       "2      0  STON/O2. 3101282   7.93   NaN        S  \n",
       "3      0            113803  53.10  C123        S  \n",
       "4      0            373450   8.05   NaN        S  "
      ]
     },
     "execution_count": 2,
     "metadata": {},
     "output_type": "execute_result"
    }
   ],
   "source": [
    "titanic_df.head()"
   ]
  },
  {
   "cell_type": "code",
   "execution_count": 3,
   "metadata": {
    "collapsed": false
   },
   "outputs": [
    {
     "name": "stdout",
     "output_type": "stream",
     "text": [
      "<class 'pandas.core.frame.DataFrame'>\n",
      "RangeIndex: 891 entries, 0 to 890\n",
      "Data columns (total 12 columns):\n",
      "PassengerId    891 non-null int64\n",
      "Survived       891 non-null int64\n",
      "Pclass         891 non-null int64\n",
      "Name           891 non-null object\n",
      "Sex            891 non-null object\n",
      "Age            714 non-null float64\n",
      "SibSp          891 non-null int64\n",
      "Parch          891 non-null int64\n",
      "Ticket         891 non-null object\n",
      "Fare           891 non-null float64\n",
      "Cabin          204 non-null object\n",
      "Embarked       889 non-null object\n",
      "dtypes: float64(2), int64(5), object(5)\n",
      "memory usage: 83.6+ KB\n"
     ]
    }
   ],
   "source": [
    "titanic_df.info()"
   ]
  },
  {
   "cell_type": "code",
   "execution_count": 4,
   "metadata": {
    "collapsed": false
   },
   "outputs": [
    {
     "name": "stderr",
     "output_type": "stream",
     "text": [
      "C:\\Users\\yehy\\AppData\\Local\\Continuum\\Anaconda2\\lib\\site-packages\\numpy\\lib\\function_base.py:3834: RuntimeWarning: Invalid value encountered in percentile\n",
      "  RuntimeWarning)\n"
     ]
    },
    {
     "data": {
      "text/html": [
       "<div>\n",
       "<table border=\"1\" class=\"dataframe\">\n",
       "  <thead>\n",
       "    <tr style=\"text-align: right;\">\n",
       "      <th></th>\n",
       "      <th>PassengerId</th>\n",
       "      <th>Survived</th>\n",
       "      <th>Pclass</th>\n",
       "      <th>Name</th>\n",
       "      <th>Sex</th>\n",
       "      <th>Age</th>\n",
       "      <th>SibSp</th>\n",
       "      <th>Parch</th>\n",
       "      <th>Ticket</th>\n",
       "      <th>Fare</th>\n",
       "      <th>Cabin</th>\n",
       "      <th>Embarked</th>\n",
       "    </tr>\n",
       "  </thead>\n",
       "  <tbody>\n",
       "    <tr>\n",
       "      <th>count</th>\n",
       "      <td>891.000000</td>\n",
       "      <td>891.000000</td>\n",
       "      <td>891.000000</td>\n",
       "      <td>891</td>\n",
       "      <td>891</td>\n",
       "      <td>714.000000</td>\n",
       "      <td>891.000000</td>\n",
       "      <td>891.000000</td>\n",
       "      <td>891</td>\n",
       "      <td>891.000000</td>\n",
       "      <td>204</td>\n",
       "      <td>889</td>\n",
       "    </tr>\n",
       "    <tr>\n",
       "      <th>unique</th>\n",
       "      <td>NaN</td>\n",
       "      <td>NaN</td>\n",
       "      <td>NaN</td>\n",
       "      <td>891</td>\n",
       "      <td>2</td>\n",
       "      <td>NaN</td>\n",
       "      <td>NaN</td>\n",
       "      <td>NaN</td>\n",
       "      <td>681</td>\n",
       "      <td>NaN</td>\n",
       "      <td>147</td>\n",
       "      <td>3</td>\n",
       "    </tr>\n",
       "    <tr>\n",
       "      <th>top</th>\n",
       "      <td>NaN</td>\n",
       "      <td>NaN</td>\n",
       "      <td>NaN</td>\n",
       "      <td>Graham, Mr. George Edward</td>\n",
       "      <td>male</td>\n",
       "      <td>NaN</td>\n",
       "      <td>NaN</td>\n",
       "      <td>NaN</td>\n",
       "      <td>CA. 2343</td>\n",
       "      <td>NaN</td>\n",
       "      <td>C23 C25 C27</td>\n",
       "      <td>S</td>\n",
       "    </tr>\n",
       "    <tr>\n",
       "      <th>freq</th>\n",
       "      <td>NaN</td>\n",
       "      <td>NaN</td>\n",
       "      <td>NaN</td>\n",
       "      <td>1</td>\n",
       "      <td>577</td>\n",
       "      <td>NaN</td>\n",
       "      <td>NaN</td>\n",
       "      <td>NaN</td>\n",
       "      <td>7</td>\n",
       "      <td>NaN</td>\n",
       "      <td>4</td>\n",
       "      <td>644</td>\n",
       "    </tr>\n",
       "    <tr>\n",
       "      <th>mean</th>\n",
       "      <td>446.000000</td>\n",
       "      <td>0.383838</td>\n",
       "      <td>2.308642</td>\n",
       "      <td>NaN</td>\n",
       "      <td>NaN</td>\n",
       "      <td>29.712885</td>\n",
       "      <td>0.523008</td>\n",
       "      <td>0.381594</td>\n",
       "      <td>NaN</td>\n",
       "      <td>32.205017</td>\n",
       "      <td>NaN</td>\n",
       "      <td>NaN</td>\n",
       "    </tr>\n",
       "    <tr>\n",
       "      <th>std</th>\n",
       "      <td>257.353842</td>\n",
       "      <td>0.486592</td>\n",
       "      <td>0.836071</td>\n",
       "      <td>NaN</td>\n",
       "      <td>NaN</td>\n",
       "      <td>14.529273</td>\n",
       "      <td>1.102743</td>\n",
       "      <td>0.806057</td>\n",
       "      <td>NaN</td>\n",
       "      <td>49.693389</td>\n",
       "      <td>NaN</td>\n",
       "      <td>NaN</td>\n",
       "    </tr>\n",
       "    <tr>\n",
       "      <th>min</th>\n",
       "      <td>1.000000</td>\n",
       "      <td>0.000000</td>\n",
       "      <td>1.000000</td>\n",
       "      <td>NaN</td>\n",
       "      <td>NaN</td>\n",
       "      <td>0.000000</td>\n",
       "      <td>0.000000</td>\n",
       "      <td>0.000000</td>\n",
       "      <td>NaN</td>\n",
       "      <td>0.000000</td>\n",
       "      <td>NaN</td>\n",
       "      <td>NaN</td>\n",
       "    </tr>\n",
       "    <tr>\n",
       "      <th>25%</th>\n",
       "      <td>223.500000</td>\n",
       "      <td>0.000000</td>\n",
       "      <td>2.000000</td>\n",
       "      <td>NaN</td>\n",
       "      <td>NaN</td>\n",
       "      <td>NaN</td>\n",
       "      <td>0.000000</td>\n",
       "      <td>0.000000</td>\n",
       "      <td>NaN</td>\n",
       "      <td>7.915000</td>\n",
       "      <td>NaN</td>\n",
       "      <td>NaN</td>\n",
       "    </tr>\n",
       "    <tr>\n",
       "      <th>50%</th>\n",
       "      <td>446.000000</td>\n",
       "      <td>0.000000</td>\n",
       "      <td>3.000000</td>\n",
       "      <td>NaN</td>\n",
       "      <td>NaN</td>\n",
       "      <td>NaN</td>\n",
       "      <td>0.000000</td>\n",
       "      <td>0.000000</td>\n",
       "      <td>NaN</td>\n",
       "      <td>14.450000</td>\n",
       "      <td>NaN</td>\n",
       "      <td>NaN</td>\n",
       "    </tr>\n",
       "    <tr>\n",
       "      <th>75%</th>\n",
       "      <td>668.500000</td>\n",
       "      <td>1.000000</td>\n",
       "      <td>3.000000</td>\n",
       "      <td>NaN</td>\n",
       "      <td>NaN</td>\n",
       "      <td>NaN</td>\n",
       "      <td>1.000000</td>\n",
       "      <td>0.000000</td>\n",
       "      <td>NaN</td>\n",
       "      <td>31.000000</td>\n",
       "      <td>NaN</td>\n",
       "      <td>NaN</td>\n",
       "    </tr>\n",
       "    <tr>\n",
       "      <th>max</th>\n",
       "      <td>891.000000</td>\n",
       "      <td>1.000000</td>\n",
       "      <td>3.000000</td>\n",
       "      <td>NaN</td>\n",
       "      <td>NaN</td>\n",
       "      <td>80.000000</td>\n",
       "      <td>8.000000</td>\n",
       "      <td>6.000000</td>\n",
       "      <td>NaN</td>\n",
       "      <td>512.330000</td>\n",
       "      <td>NaN</td>\n",
       "      <td>NaN</td>\n",
       "    </tr>\n",
       "  </tbody>\n",
       "</table>\n",
       "</div>"
      ],
      "text/plain": [
       "        PassengerId    Survived      Pclass                       Name   Sex  \\\n",
       "count    891.000000  891.000000  891.000000                        891   891   \n",
       "unique          NaN         NaN         NaN                        891     2   \n",
       "top             NaN         NaN         NaN  Graham, Mr. George Edward  male   \n",
       "freq            NaN         NaN         NaN                          1   577   \n",
       "mean     446.000000    0.383838    2.308642                        NaN   NaN   \n",
       "std      257.353842    0.486592    0.836071                        NaN   NaN   \n",
       "min        1.000000    0.000000    1.000000                        NaN   NaN   \n",
       "25%      223.500000    0.000000    2.000000                        NaN   NaN   \n",
       "50%      446.000000    0.000000    3.000000                        NaN   NaN   \n",
       "75%      668.500000    1.000000    3.000000                        NaN   NaN   \n",
       "max      891.000000    1.000000    3.000000                        NaN   NaN   \n",
       "\n",
       "               Age       SibSp       Parch    Ticket        Fare        Cabin  \\\n",
       "count   714.000000  891.000000  891.000000       891  891.000000          204   \n",
       "unique         NaN         NaN         NaN       681         NaN          147   \n",
       "top            NaN         NaN         NaN  CA. 2343         NaN  C23 C25 C27   \n",
       "freq           NaN         NaN         NaN         7         NaN            4   \n",
       "mean     29.712885    0.523008    0.381594       NaN   32.205017          NaN   \n",
       "std      14.529273    1.102743    0.806057       NaN   49.693389          NaN   \n",
       "min       0.000000    0.000000    0.000000       NaN    0.000000          NaN   \n",
       "25%            NaN    0.000000    0.000000       NaN    7.915000          NaN   \n",
       "50%            NaN    0.000000    0.000000       NaN   14.450000          NaN   \n",
       "75%            NaN    1.000000    0.000000       NaN   31.000000          NaN   \n",
       "max      80.000000    8.000000    6.000000       NaN  512.330000          NaN   \n",
       "\n",
       "       Embarked  \n",
       "count       889  \n",
       "unique        3  \n",
       "top           S  \n",
       "freq        644  \n",
       "mean        NaN  \n",
       "std         NaN  \n",
       "min         NaN  \n",
       "25%         NaN  \n",
       "50%         NaN  \n",
       "75%         NaN  \n",
       "max         NaN  "
      ]
     },
     "execution_count": 4,
     "metadata": {},
     "output_type": "execute_result"
    }
   ],
   "source": [
    "titanic_df.describe(include='all')"
   ]
  },
  {
   "cell_type": "markdown",
   "metadata": {},
   "source": [
    "<b>Investigation summary in this sample data set:</b>\n",
    "\n",
    "1) Problematic data: some passengers are associated with a fare value of 0 <br>\n",
    "2) Missing data: 'Age' data on 177 passengers, 'Embarked' data on 2 passengers*  \n",
    "3) Not easy to understand 'Embarked' data values <br>\n",
    "4) Fix the data types: The data type for 'Pclass' should be categorical instead of int <br>\n",
    "\n",
    "* The passengers that missing Embarked' data would be excluded rather than be wrangled, as it is impossible to wrangle based on the available information."
   ]
  },
  {
   "cell_type": "markdown",
   "metadata": {},
   "source": [
    "### Stage 3: Data Wrangling Phase"
   ]
  },
  {
   "cell_type": "markdown",
   "metadata": {},
   "source": [
    "<b>1) Fix problematic data with 0 fare value</b>"
   ]
  },
  {
   "cell_type": "code",
   "execution_count": 5,
   "metadata": {
    "collapsed": false
   },
   "outputs": [
    {
     "data": {
      "text/html": [
       "<div>\n",
       "<table border=\"1\" class=\"dataframe\">\n",
       "  <thead>\n",
       "    <tr style=\"text-align: right;\">\n",
       "      <th></th>\n",
       "      <th>PassengerId</th>\n",
       "      <th>Fare</th>\n",
       "    </tr>\n",
       "  </thead>\n",
       "  <tbody>\n",
       "    <tr>\n",
       "      <th>179</th>\n",
       "      <td>180</td>\n",
       "      <td>0.0</td>\n",
       "    </tr>\n",
       "    <tr>\n",
       "      <th>263</th>\n",
       "      <td>264</td>\n",
       "      <td>0.0</td>\n",
       "    </tr>\n",
       "    <tr>\n",
       "      <th>271</th>\n",
       "      <td>272</td>\n",
       "      <td>0.0</td>\n",
       "    </tr>\n",
       "    <tr>\n",
       "      <th>277</th>\n",
       "      <td>278</td>\n",
       "      <td>0.0</td>\n",
       "    </tr>\n",
       "    <tr>\n",
       "      <th>302</th>\n",
       "      <td>303</td>\n",
       "      <td>0.0</td>\n",
       "    </tr>\n",
       "  </tbody>\n",
       "</table>\n",
       "</div>"
      ],
      "text/plain": [
       "     PassengerId  Fare\n",
       "179          180   0.0\n",
       "263          264   0.0\n",
       "271          272   0.0\n",
       "277          278   0.0\n",
       "302          303   0.0"
      ]
     },
     "execution_count": 5,
     "metadata": {},
     "output_type": "execute_result"
    }
   ],
   "source": [
    "# Identify the passengers with 0 fare value\n",
    "df = titanic_df[titanic_df['Fare']==0][['PassengerId','Fare']]\n",
    "\n",
    "#preview first 5 data\n",
    "df[:5]"
   ]
  },
  {
   "cell_type": "code",
   "execution_count": 6,
   "metadata": {
    "collapsed": false
   },
   "outputs": [
    {
     "data": {
      "text/html": [
       "<div>\n",
       "<table border=\"1\" class=\"dataframe\">\n",
       "  <thead>\n",
       "    <tr style=\"text-align: right;\">\n",
       "      <th></th>\n",
       "      <th>Pclass</th>\n",
       "      <th>Embarked</th>\n",
       "      <th>WithCabin</th>\n",
       "      <th>Fare</th>\n",
       "    </tr>\n",
       "  </thead>\n",
       "  <tbody>\n",
       "    <tr>\n",
       "      <th>0</th>\n",
       "      <td>1</td>\n",
       "      <td>C</td>\n",
       "      <td>No</td>\n",
       "      <td>61.380</td>\n",
       "    </tr>\n",
       "    <tr>\n",
       "      <th>1</th>\n",
       "      <td>1</td>\n",
       "      <td>C</td>\n",
       "      <td>Yes</td>\n",
       "      <td>78.735</td>\n",
       "    </tr>\n",
       "    <tr>\n",
       "      <th>2</th>\n",
       "      <td>1</td>\n",
       "      <td>Q</td>\n",
       "      <td>Yes</td>\n",
       "      <td>90.000</td>\n",
       "    </tr>\n",
       "    <tr>\n",
       "      <th>3</th>\n",
       "      <td>1</td>\n",
       "      <td>S</td>\n",
       "      <td>No</td>\n",
       "      <td>30.500</td>\n",
       "    </tr>\n",
       "    <tr>\n",
       "      <th>4</th>\n",
       "      <td>1</td>\n",
       "      <td>S</td>\n",
       "      <td>Yes</td>\n",
       "      <td>53.100</td>\n",
       "    </tr>\n",
       "    <tr>\n",
       "      <th>5</th>\n",
       "      <td>2</td>\n",
       "      <td>C</td>\n",
       "      <td>No</td>\n",
       "      <td>27.720</td>\n",
       "    </tr>\n",
       "    <tr>\n",
       "      <th>6</th>\n",
       "      <td>2</td>\n",
       "      <td>C</td>\n",
       "      <td>Yes</td>\n",
       "      <td>13.335</td>\n",
       "    </tr>\n",
       "    <tr>\n",
       "      <th>7</th>\n",
       "      <td>2</td>\n",
       "      <td>Q</td>\n",
       "      <td>No</td>\n",
       "      <td>12.350</td>\n",
       "    </tr>\n",
       "    <tr>\n",
       "      <th>8</th>\n",
       "      <td>2</td>\n",
       "      <td>Q</td>\n",
       "      <td>Yes</td>\n",
       "      <td>12.350</td>\n",
       "    </tr>\n",
       "    <tr>\n",
       "      <th>9</th>\n",
       "      <td>2</td>\n",
       "      <td>S</td>\n",
       "      <td>No</td>\n",
       "      <td>14.000</td>\n",
       "    </tr>\n",
       "    <tr>\n",
       "      <th>10</th>\n",
       "      <td>2</td>\n",
       "      <td>S</td>\n",
       "      <td>Yes</td>\n",
       "      <td>13.000</td>\n",
       "    </tr>\n",
       "    <tr>\n",
       "      <th>11</th>\n",
       "      <td>3</td>\n",
       "      <td>C</td>\n",
       "      <td>No</td>\n",
       "      <td>7.900</td>\n",
       "    </tr>\n",
       "    <tr>\n",
       "      <th>12</th>\n",
       "      <td>3</td>\n",
       "      <td>C</td>\n",
       "      <td>Yes</td>\n",
       "      <td>22.360</td>\n",
       "    </tr>\n",
       "    <tr>\n",
       "      <th>13</th>\n",
       "      <td>3</td>\n",
       "      <td>Q</td>\n",
       "      <td>No</td>\n",
       "      <td>7.750</td>\n",
       "    </tr>\n",
       "    <tr>\n",
       "      <th>14</th>\n",
       "      <td>3</td>\n",
       "      <td>Q</td>\n",
       "      <td>Yes</td>\n",
       "      <td>7.750</td>\n",
       "    </tr>\n",
       "    <tr>\n",
       "      <th>15</th>\n",
       "      <td>3</td>\n",
       "      <td>S</td>\n",
       "      <td>No</td>\n",
       "      <td>8.050</td>\n",
       "    </tr>\n",
       "    <tr>\n",
       "      <th>16</th>\n",
       "      <td>3</td>\n",
       "      <td>S</td>\n",
       "      <td>Yes</td>\n",
       "      <td>10.460</td>\n",
       "    </tr>\n",
       "  </tbody>\n",
       "</table>\n",
       "</div>"
      ],
      "text/plain": [
       "    Pclass Embarked WithCabin    Fare\n",
       "0        1        C        No  61.380\n",
       "1        1        C       Yes  78.735\n",
       "2        1        Q       Yes  90.000\n",
       "3        1        S        No  30.500\n",
       "4        1        S       Yes  53.100\n",
       "5        2        C        No  27.720\n",
       "6        2        C       Yes  13.335\n",
       "7        2        Q        No  12.350\n",
       "8        2        Q       Yes  12.350\n",
       "9        2        S        No  14.000\n",
       "10       2        S       Yes  13.000\n",
       "11       3        C        No   7.900\n",
       "12       3        C       Yes  22.360\n",
       "13       3        Q        No   7.750\n",
       "14       3        Q       Yes   7.750\n",
       "15       3        S        No   8.050\n",
       "16       3        S       Yes  10.460"
      ]
     },
     "execution_count": 6,
     "metadata": {},
     "output_type": "execute_result"
    }
   ],
   "source": [
    "# Find out the variables affecting fare prices\n",
    "# The assumed variables: Pclass, embarked harbor, Whether the passengers in cabin or not\n",
    "# Calculate a new field 'WithCabin' to identify whether the passengers were assgined with cabins or not\n",
    "# Use median fare to avoid outliners\n",
    "\n",
    "titanic_df['WithCabin']= np.where(titanic_df['Cabin'].isnull(), \"No\" ,\"Yes\" )\n",
    "titanic_df.groupby(['Pclass','Embarked','WithCabin']).median()['Fare'].reset_index()\n"
   ]
  },
  {
   "cell_type": "markdown",
   "metadata": {},
   "source": [
    "The result shows 'WithCabin' and 'Embarked' both don't always associate with a higher or lower fare.\n",
    " Hence, replacing 0 fare based on different 'PClass' categories is my suggested approach."
   ]
  },
  {
   "cell_type": "code",
   "execution_count": 7,
   "metadata": {
    "collapsed": false
   },
   "outputs": [
    {
     "data": {
      "text/html": [
       "<div>\n",
       "<table border=\"1\" class=\"dataframe\">\n",
       "  <thead>\n",
       "    <tr style=\"text-align: right;\">\n",
       "      <th></th>\n",
       "      <th>PassengerId</th>\n",
       "      <th>FareNew</th>\n",
       "      <th>Fare</th>\n",
       "    </tr>\n",
       "  </thead>\n",
       "  <tbody>\n",
       "    <tr>\n",
       "      <th>179</th>\n",
       "      <td>180</td>\n",
       "      <td>8.05</td>\n",
       "      <td>0.0</td>\n",
       "    </tr>\n",
       "    <tr>\n",
       "      <th>263</th>\n",
       "      <td>264</td>\n",
       "      <td>60.29</td>\n",
       "      <td>0.0</td>\n",
       "    </tr>\n",
       "    <tr>\n",
       "      <th>271</th>\n",
       "      <td>272</td>\n",
       "      <td>8.05</td>\n",
       "      <td>0.0</td>\n",
       "    </tr>\n",
       "    <tr>\n",
       "      <th>277</th>\n",
       "      <td>278</td>\n",
       "      <td>14.25</td>\n",
       "      <td>0.0</td>\n",
       "    </tr>\n",
       "    <tr>\n",
       "      <th>302</th>\n",
       "      <td>303</td>\n",
       "      <td>8.05</td>\n",
       "      <td>0.0</td>\n",
       "    </tr>\n",
       "  </tbody>\n",
       "</table>\n",
       "</div>"
      ],
      "text/plain": [
       "     PassengerId  FareNew  Fare\n",
       "179          180     8.05   0.0\n",
       "263          264    60.29   0.0\n",
       "271          272     8.05   0.0\n",
       "277          278    14.25   0.0\n",
       "302          303     8.05   0.0"
      ]
     },
     "execution_count": 7,
     "metadata": {},
     "output_type": "execute_result"
    }
   ],
   "source": [
    "# Declaimer: some following code snipets are referenced from  \n",
    "# https://discussions.udacity.com/t/p2-titanic-data-set-project-unable-to-fix-data-errors-in-fare-column/170554/7\n",
    "# Create a 'NewFare' column\n",
    "# Insert the the median of 'Fare' for 'Pclass'\n",
    "\n",
    "def replace_fare(grp):\n",
    "    grp['FareNew'] = np.where((grp['Fare'] ==0), grp['Fare'].median(),grp['Fare'])\n",
    "    return grp\n",
    "\n",
    "titanic_df = titanic_df.groupby(['Pclass']).apply(replace_fare)\n",
    "\n",
    "df =titanic_df[((titanic_df['Fare'] ==0))][['PassengerId','FareNew','Fare',]]\n",
    "\n",
    "#preview first 5 data\n",
    "df[:5]"
   ]
  },
  {
   "cell_type": "markdown",
   "metadata": {},
   "source": [
    "<b> 2) Fix missing 'Age' data </b>"
   ]
  },
  {
   "cell_type": "code",
   "execution_count": 8,
   "metadata": {
    "collapsed": false
   },
   "outputs": [
    {
     "data": {
      "text/html": [
       "<div>\n",
       "<table border=\"1\" class=\"dataframe\">\n",
       "  <thead>\n",
       "    <tr style=\"text-align: right;\">\n",
       "      <th></th>\n",
       "      <th>PassengerId</th>\n",
       "      <th>Age</th>\n",
       "    </tr>\n",
       "  </thead>\n",
       "  <tbody>\n",
       "    <tr>\n",
       "      <th>5</th>\n",
       "      <td>6</td>\n",
       "      <td>NaN</td>\n",
       "    </tr>\n",
       "    <tr>\n",
       "      <th>17</th>\n",
       "      <td>18</td>\n",
       "      <td>NaN</td>\n",
       "    </tr>\n",
       "    <tr>\n",
       "      <th>19</th>\n",
       "      <td>20</td>\n",
       "      <td>NaN</td>\n",
       "    </tr>\n",
       "    <tr>\n",
       "      <th>26</th>\n",
       "      <td>27</td>\n",
       "      <td>NaN</td>\n",
       "    </tr>\n",
       "    <tr>\n",
       "      <th>28</th>\n",
       "      <td>29</td>\n",
       "      <td>NaN</td>\n",
       "    </tr>\n",
       "  </tbody>\n",
       "</table>\n",
       "</div>"
      ],
      "text/plain": [
       "    PassengerId  Age\n",
       "5             6  NaN\n",
       "17           18  NaN\n",
       "19           20  NaN\n",
       "26           27  NaN\n",
       "28           29  NaN"
      ]
     },
     "execution_count": 8,
     "metadata": {},
     "output_type": "execute_result"
    }
   ],
   "source": [
    "# Identify the passengers with missing age data\n",
    "df= titanic_df[titanic_df['Age'].isnull()][['PassengerId','Age']]\n",
    "\n",
    "#preview first 5 data\n",
    "df[:5]"
   ]
  },
  {
   "cell_type": "code",
   "execution_count": 9,
   "metadata": {
    "collapsed": false
   },
   "outputs": [
    {
     "data": {
      "text/html": [
       "<div>\n",
       "<table border=\"1\" class=\"dataframe\">\n",
       "  <thead>\n",
       "    <tr style=\"text-align: right;\">\n",
       "      <th></th>\n",
       "      <th>PassengerId</th>\n",
       "      <th>AgeNew</th>\n",
       "      <th>Age</th>\n",
       "    </tr>\n",
       "  </thead>\n",
       "  <tbody>\n",
       "    <tr>\n",
       "      <th>5</th>\n",
       "      <td>6</td>\n",
       "      <td>30.0</td>\n",
       "      <td>NaN</td>\n",
       "    </tr>\n",
       "    <tr>\n",
       "      <th>17</th>\n",
       "      <td>18</td>\n",
       "      <td>30.0</td>\n",
       "      <td>NaN</td>\n",
       "    </tr>\n",
       "    <tr>\n",
       "      <th>19</th>\n",
       "      <td>20</td>\n",
       "      <td>35.0</td>\n",
       "      <td>NaN</td>\n",
       "    </tr>\n",
       "    <tr>\n",
       "      <th>26</th>\n",
       "      <td>27</td>\n",
       "      <td>30.0</td>\n",
       "      <td>NaN</td>\n",
       "    </tr>\n",
       "    <tr>\n",
       "      <th>28</th>\n",
       "      <td>29</td>\n",
       "      <td>21.0</td>\n",
       "      <td>NaN</td>\n",
       "    </tr>\n",
       "  </tbody>\n",
       "</table>\n",
       "</div>"
      ],
      "text/plain": [
       "    PassengerId  AgeNew  Age\n",
       "5             6    30.0  NaN\n",
       "17           18    30.0  NaN\n",
       "19           20    35.0  NaN\n",
       "26           27    30.0  NaN\n",
       "28           29    21.0  NaN"
      ]
     },
     "execution_count": 9,
     "metadata": {},
     "output_type": "execute_result"
    }
   ],
   "source": [
    "# Declaimer: some following code snipets and ideas are referenced \n",
    "# from  https://discussions.udacity.com/t/p2-titanic-data-set-project-unable-to-fix-data-errors-in-fare-column/170554/7\n",
    "# Create a 'NewAge' column\n",
    "# Insert the the median of 'Fare' based on Salutation\n",
    "\n",
    "def reverse_names(names):\n",
    "    split_name = names.split(\",\")\n",
    "    last_name = split_name[0]\n",
    "    first_name =  split_name[1]\n",
    "    split_firstname = first_name.split(\".\")\n",
    "    first_name_salutation =  split_firstname[0]\n",
    "    first_name_name = split_firstname[1]\n",
    "    return first_name_salutation\n",
    "    \n",
    "titanic_df['Salutation']=titanic_df['Name'].apply(reverse_names)\n",
    "    \n",
    "\n",
    "def replace_age(grp):\n",
    "    grp['AgeNew'] = np.where((grp['Age'].isnull()), grp['Age'].median(),grp['Age'])\n",
    "    return grp\n",
    "\n",
    "titanic_df = titanic_df.groupby(['Salutation']).apply(replace_age)\n",
    "\n",
    "df=titanic_df[((titanic_df['Age'].isnull()))][['PassengerId','AgeNew','Age',]]\n",
    "\n",
    "#preview first 5 data\n",
    "df[:5]"
   ]
  },
  {
   "cell_type": "markdown",
   "metadata": {},
   "source": [
    "<b> 3) Replace 'Embarked' data values </b>"
   ]
  },
  {
   "cell_type": "code",
   "execution_count": 10,
   "metadata": {
    "collapsed": false
   },
   "outputs": [],
   "source": [
    "# Add a new 'EmbarkedNew' column to display the full name of ports \n",
    "titanic_df['EmbarkedNew'] = np.where((titanic_df['Embarked'] ==\"S\"),\"Southampton\",\\\n",
    "                                     np.where((titanic_df['Embarked'] =='C'), \"Cherbourg\",\\\n",
    "                                     np.where((titanic_df['Embarked'] =='Q'),\"Queenstown\",\\\n",
    "                                              titanic_df['Embarked'])))"
   ]
  },
  {
   "cell_type": "markdown",
   "metadata": {},
   "source": [
    "<b> 4) Fix the data type for 'Pclass'</b>"
   ]
  },
  {
   "cell_type": "code",
   "execution_count": 11,
   "metadata": {
    "collapsed": false
   },
   "outputs": [],
   "source": [
    "titanic_df['Pclass']=titanic_df['Pclass'].astype(\"category\")"
   ]
  },
  {
   "cell_type": "markdown",
   "metadata": {},
   "source": [
    "### Stage 4: Exploration Phase"
   ]
  },
  {
   "cell_type": "markdown",
   "metadata": {},
   "source": [
    "<b>What is the age distribution of passengers?</b>"
   ]
  },
  {
   "cell_type": "code",
   "execution_count": 12,
   "metadata": {
    "collapsed": false
   },
   "outputs": [
    {
     "name": "stdout",
     "output_type": "stream",
     "text": [
      "            Age     AgeNew\n",
      "mean  29.712885  29.401235\n"
     ]
    },
    {
     "data": {
      "image/png": "[encoded data removed]",
      "text/plain": [
       "<matplotlib.figure.Figure at 0x9d300b8>"
      ]
     },
     "metadata": {},
     "output_type": "display_data"
    }
   ],
   "source": [
    "plt.style.use('seaborn-deep')\n",
    "\n",
    "# create age lists\n",
    "Age = titanic_df['Age'].tolist()\n",
    "AgeNew = titanic_df['AgeNew'].tolist()\n",
    "\n",
    "# calculate average Age\n",
    "print titanic_df[['Age','AgeNew']].describe().loc[['mean']]\n",
    "\n",
    "# fare distribution comparison between original age and new age\n",
    "data1 = np.vstack([Age, AgeNew]).T\n",
    "plt.hist(data1, bins=10, alpha=0.7, label=['Age', 'AgeNew'])\n",
    "plt.legend(loc='upper right')\n",
    "plt.title('Age distribution (Age vs New age)')\n",
    "plt.xlabel('Age')\n",
    "plt.ylabel('Number of Passengers')\n",
    "plt.show()"
   ]
  },
  {
   "cell_type": "markdown",
   "metadata": {},
   "source": [
    "First of all, the comparison between original age data and the new age data shows most missing age passengers are added to the 30 age group. The average age of the passenger is around 30 years old, and more than half of passengers are aged between 20 and 40."
   ]
  },
  {
   "cell_type": "markdown",
   "metadata": {},
   "source": [
    "<b>What is the distribution of fare among the passengers?</b>"
   ]
  },
  {
   "cell_type": "code",
   "execution_count": 13,
   "metadata": {
    "collapsed": false
   },
   "outputs": [
    {
     "name": "stdout",
     "output_type": "stream",
     "text": [
      "           Fare    FareNew\n",
      "mean  32.205017  32.675443\n"
     ]
    },
    {
     "data": {
      "image/png": "[encoded data removed]",
      "text/plain": [
       "<matplotlib.figure.Figure at 0xbe44668>"
      ]
     },
     "metadata": {},
     "output_type": "display_data"
    }
   ],
   "source": [
    "plt.style.use('seaborn-deep')\n",
    "\n",
    "# create fare lists\n",
    "Fare = titanic_df['Fare'].tolist()\n",
    "FareNew = titanic_df['FareNew'].tolist()\n",
    "\n",
    "# calculate average fare\n",
    "print titanic_df[['Fare','FareNew']].describe().loc[['mean']]\n",
    "\n",
    "# fare distribution comparison between original fare and new fare\n",
    "data = np.vstack([Fare, FareNew]).T\n",
    "plt.hist(data, bins=20, alpha=0.7, label=['Fare', 'FareNew'])\n",
    "plt.legend(loc='upper right')\n",
    "plt.title('Fare distribution (fare vs New fare)')\n",
    "plt.xlabel('Fare')\n",
    "plt.ylabel('Number of Passengers')\n",
    "plt.show()"
   ]
  },
  {
   "cell_type": "markdown",
   "metadata": {},
   "source": [
    "Fare data after wrangeling doesn't seem to affect the distribution. Most of passengers paid under 100 USD, and the average fare is around 33 USD. We also see few passengers paid up to 500 USD."
   ]
  },
  {
   "cell_type": "markdown",
   "metadata": {},
   "source": [
    "<b>How passengers are distributed by pclass, sex and embarked?</b>"
   ]
  },
  {
   "cell_type": "code",
   "execution_count": 14,
   "metadata": {
    "collapsed": false
   },
   "outputs": [
    {
     "data": {
      "text/plain": [
       "Sex\n",
       "female    35.241302\n",
       "male      64.758698\n",
       "Name: PassengerId, dtype: float64"
      ]
     },
     "execution_count": 14,
     "metadata": {},
     "output_type": "execute_result"
    },
    {
     "data": {
      "image/png": "[encoded data removed]",
      "text/plain": [
       "<matplotlib.figure.Figure at 0x9f12b00>"
      ]
     },
     "metadata": {},
     "output_type": "display_data"
    }
   ],
   "source": [
    "# plort sex distribution histogram\n",
    "titanic_df2= titanic_df.groupby('Sex').count()['PassengerId']\n",
    "ax2= titanic_df2.plot(kind='bar')\n",
    "ax2.set_ylabel('Number of Passengers')\n",
    "ax2.set_xlabel('Sex')\n",
    "ax2.set_title('Sex distribution')\n",
    "\n",
    "# calculate sex percentage\n",
    "count_all = titanic_df2.sum()\n",
    "(titanic_df2/count_all) * 100"
   ]
  },
  {
   "cell_type": "markdown",
   "metadata": {},
   "source": [
    "Approximately 65% passengers are male, so the male is nearly twice as much as female."
   ]
  },
  {
   "cell_type": "code",
   "execution_count": 15,
   "metadata": {
    "collapsed": false
   },
   "outputs": [
    {
     "data": {
      "text/plain": [
       "Pclass\n",
       "1    0.242424\n",
       "2    0.206510\n",
       "3    0.551066\n",
       "Name: PassengerId, dtype: float64"
      ]
     },
     "execution_count": 15,
     "metadata": {},
     "output_type": "execute_result"
    },
    {
     "data": {
      "image/png": "[encoded data removed]",
      "text/plain": [
       "<matplotlib.figure.Figure at 0xa12d0f0>"
      ]
     },
     "metadata": {},
     "output_type": "display_data"
    }
   ],
   "source": [
    "# plort pclass distribution histogram\n",
    "titanic_df2= titanic_df.groupby('Pclass').count()['PassengerId']\n",
    "ax2= titanic_df2.plot(kind='bar')\n",
    "ax2.set_ylabel('Number of Passengers')\n",
    "ax2.set_xlabel('Pclass')\n",
    "ax2.set_title('Pclass distribution')\n",
    "\n",
    "# calculate pclass percentage\n",
    "count_all = titanic_df2.sum()\n",
    "titanic_df2/count_all"
   ]
  },
  {
   "cell_type": "markdown",
   "metadata": {},
   "source": [
    "Almost 500 passengers are from 3rd Class, and 1st Class and 2nd Class have around 200 passengers each."
   ]
  },
  {
   "cell_type": "markdown",
   "metadata": {},
   "source": [
    "<b>What is the age distribution in each pclass?</b>"
   ]
  },
  {
   "cell_type": "code",
   "execution_count": 16,
   "metadata": {
    "collapsed": false
   },
   "outputs": [
    {
     "data": {
      "text/plain": [
       "EmbarkedNew\n",
       "Cherbourg      0.188976\n",
       "Queenstown     0.086614\n",
       "Southampton    0.724409\n",
       "Name: PassengerId, dtype: float64"
      ]
     },
     "execution_count": 16,
     "metadata": {},
     "output_type": "execute_result"
    },
    {
     "data": {
      "image/png": "[encoded data removed]",
      "text/plain": [
       "<matplotlib.figure.Figure at 0xc483eb8>"
      ]
     },
     "metadata": {},
     "output_type": "display_data"
    }
   ],
   "source": [
    "# plort embarked distribution histogram\n",
    "titanic_df2= titanic_df.groupby('EmbarkedNew').count()['PassengerId']\n",
    "ax2= titanic_df2.plot(kind='bar')\n",
    "ax2.set_ylabel('Number of Passengers')\n",
    "ax2.set_xlabel('Embarked')\n",
    "ax2.set_title('Embarked distribution')\n",
    "\n",
    "# calculate embarked percentage\n",
    "count_all = titanic_df2.sum()\n",
    "titanic_df2/count_all"
   ]
  },
  {
   "cell_type": "markdown",
   "metadata": {},
   "source": [
    "Around 70% passengers were boarding via Southampton, and the rest of passengers were from either Cherbourg or Queenstown."
   ]
  },
  {
   "cell_type": "markdown",
   "metadata": {},
   "source": [
    "<b>How many passengers were assigned with cabins?</b>"
   ]
  },
  {
   "cell_type": "code",
   "execution_count": 17,
   "metadata": {
    "collapsed": false
   },
   "outputs": [
    {
     "data": {
      "text/plain": [
       "WithCabin\n",
       "No     0.771044\n",
       "Yes    0.228956\n",
       "Name: PassengerId, dtype: float64"
      ]
     },
     "execution_count": 17,
     "metadata": {},
     "output_type": "execute_result"
    },
    {
     "data": {
      "image/png": "[encoded data removed]",
      "text/plain": [
       "<matplotlib.figure.Figure at 0xc5cb6d8>"
      ]
     },
     "metadata": {},
     "output_type": "display_data"
    }
   ],
   "source": [
    "# Group passengers with cabins and without\n",
    "titanic_df['WithCabin']= np.where(titanic_df['Cabin'].isnull(), \"No\" ,\"Yes\" )\n",
    "\n",
    "# plort WithCabin distribution histogram\n",
    "titanic_df2= titanic_df.groupby('WithCabin').count()['PassengerId']\n",
    "ax2= titanic_df2.plot(kind='bar')\n",
    "ax2.set_ylabel('Number of Passengers')\n",
    "ax2.set_xlabel('With Cabin')\n",
    "ax2.set_title('With Cabin distribution')\n",
    "\n",
    "# calculate WithCabin percentage\n",
    "count_all = titanic_df2.sum()\n",
    "titanic_df2/count_all"
   ]
  },
  {
   "cell_type": "markdown",
   "metadata": {},
   "source": [
    "Around 77% passengers were assigned with cabins and around 28% were without cabins."
   ]
  },
  {
   "cell_type": "markdown",
   "metadata": {},
   "source": [
    "<b>What is the age distribution in each pclass?</b>"
   ]
  },
  {
   "cell_type": "code",
   "execution_count": 18,
   "metadata": {
    "collapsed": false
   },
   "outputs": [
    {
     "data": {
      "text/html": [
       "<div>\n",
       "<table border=\"1\" class=\"dataframe\">\n",
       "  <thead>\n",
       "    <tr style=\"text-align: right;\">\n",
       "      <th></th>\n",
       "      <th></th>\n",
       "      <th>AgeNew</th>\n",
       "    </tr>\n",
       "    <tr>\n",
       "      <th>Pclass</th>\n",
       "      <th></th>\n",
       "      <th></th>\n",
       "    </tr>\n",
       "  </thead>\n",
       "  <tbody>\n",
       "    <tr>\n",
       "      <th rowspan=\"3\" valign=\"top\">1</th>\n",
       "      <th>count</th>\n",
       "      <td>216.000000</td>\n",
       "    </tr>\n",
       "    <tr>\n",
       "      <th>mean</th>\n",
       "      <td>37.312500</td>\n",
       "    </tr>\n",
       "    <tr>\n",
       "      <th>std</th>\n",
       "      <td>14.003514</td>\n",
       "    </tr>\n",
       "    <tr>\n",
       "      <th rowspan=\"3\" valign=\"top\">2</th>\n",
       "      <th>count</th>\n",
       "      <td>184.000000</td>\n",
       "    </tr>\n",
       "    <tr>\n",
       "      <th>mean</th>\n",
       "      <td>29.798913</td>\n",
       "    </tr>\n",
       "    <tr>\n",
       "      <th>std</th>\n",
       "      <td>13.599976</td>\n",
       "    </tr>\n",
       "    <tr>\n",
       "      <th rowspan=\"3\" valign=\"top\">3</th>\n",
       "      <th>count</th>\n",
       "      <td>491.000000</td>\n",
       "    </tr>\n",
       "    <tr>\n",
       "      <th>mean</th>\n",
       "      <td>25.771894</td>\n",
       "    </tr>\n",
       "    <tr>\n",
       "      <th>std</th>\n",
       "      <td>11.125577</td>\n",
       "    </tr>\n",
       "  </tbody>\n",
       "</table>\n",
       "</div>"
      ],
      "text/plain": [
       "                  AgeNew\n",
       "Pclass                  \n",
       "1      count  216.000000\n",
       "       mean    37.312500\n",
       "       std     14.003514\n",
       "2      count  184.000000\n",
       "       mean    29.798913\n",
       "       std     13.599976\n",
       "3      count  491.000000\n",
       "       mean    25.771894\n",
       "       std     11.125577"
      ]
     },
     "execution_count": 18,
     "metadata": {},
     "output_type": "execute_result"
    },
    {
     "data": {
      "image/png": "[encoded data removed]",
      "text/plain": [
       "<matplotlib.figure.Figure at 0xc5d6780>"
      ]
     },
     "metadata": {},
     "output_type": "display_data"
    }
   ],
   "source": [
    "titanic_df.boxplot(column=['AgeNew'], by = ['Pclass']).set_ylabel('Age')\n",
    "pd.DataFrame(titanic_df.groupby(['Pclass'])['AgeNew'].describe().loc[:,['mean','std','count']])"
   ]
  },
  {
   "cell_type": "markdown",
   "metadata": {},
   "source": [
    "The average age of 1st Pclass passengers is around 37, much older than the average age of 2nd and 3rd Pclass. The average age of 2nd Pclass passengers is around 30, and for 3rd Pclass the mean age is around 26. Furthermore, the variance for the age of 1st Pclass passengers is also higher, which means the age data points are spread out among 1st Pclass passengers."
   ]
  },
  {
   "cell_type": "markdown",
   "metadata": {},
   "source": [
    "<b>What is the correlation between age and fare?</b>"
   ]
  },
  {
   "cell_type": "code",
   "execution_count": 19,
   "metadata": {
    "collapsed": false
   },
   "outputs": [
    {
     "data": {
      "text/plain": [
       "array([[ 1.        ,  0.10112437],\n",
       "       [ 0.10112437,  1.        ]])"
      ]
     },
     "execution_count": 19,
     "metadata": {},
     "output_type": "execute_result"
    },
    {
     "data": {
      "image/png": "[encoded data removed]",
      "text/plain": [
       "<matplotlib.figure.Figure at 0xc5d6320>"
      ]
     },
     "metadata": {},
     "output_type": "display_data"
    }
   ],
   "source": [
    "# Use scatter plot to discover the relationship between age and fare\n",
    "titanic_df.plot(kind='scatter',x='AgeNew', y='FareNew').set_yscale('log')\n",
    "\n",
    "# determine the correlation coefficient \n",
    "np.corrcoef(AgeNew,FareNew)"
   ]
  },
  {
   "cell_type": "markdown",
   "metadata": {},
   "source": [
    "There is a very little relationship between age and fare, as the coefficient is 0.1."
   ]
  },
  {
   "cell_type": "markdown",
   "metadata": {},
   "source": [
    "<b>Were passengers aged between 0-14 (infants, toddlers and children) always travelling with parents? </b>"
   ]
  },
  {
   "cell_type": "code",
   "execution_count": 20,
   "metadata": {
    "collapsed": false
   },
   "outputs": [
    {
     "data": {
      "text/plain": [
       "WithParch  LabelsNew\n",
       "No         Child         7\n",
       "Yes        Child        50\n",
       "           Infant       13\n",
       "           Toddler      10\n",
       "Name: Survived, dtype: int64"
      ]
     },
     "execution_count": 20,
     "metadata": {},
     "output_type": "execute_result"
    }
   ],
   "source": [
    "# Group passengers with parents/children and without\n",
    "titanic_df['WithParch']= np.where(titanic_df['Parch']<1, \"No\" ,\"Yes\" )\n",
    "\n",
    "# Group age groups by Labels\n",
    "def cutDF(df):\n",
    "    return pd.cut(df,[0, 1, 2, 14, 18, 25, 35, 65, 120], labels=['Infant','Toddler', 'Child', 'Teenager', \n",
    "                                                                 'Young Adult', 'Adult', 'Middle-Age', 'Senior'])\n",
    "\n",
    "titanic_df['LabelsNew'] = titanic_df[['AgeNew']].apply(cutDF)\n",
    "\n",
    "# Select passengers aged between 0 and 14\n",
    "age14=titanic_df[titanic_df['AgeNew'] < 15]\n",
    "\n",
    "# Plot the graph \n",
    "titanic_df2= age14.groupby(['WithParch','LabelsNew']).mean()['Survived']\n",
    "age14.groupby(['WithParch','LabelsNew']).count()['Survived']"
   ]
  },
  {
   "cell_type": "markdown",
   "metadata": {},
   "source": [
    "It's not a surprise to see that infants and toddlers were all travelled with parents. This analysis show 7 children were travelling without parents."
   ]
  },
  {
   "cell_type": "markdown",
   "metadata": {},
   "source": [
    "<b> In which life stage did the passengers likely to survive? </b>"
   ]
  },
  {
   "cell_type": "code",
   "execution_count": 21,
   "metadata": {
    "collapsed": false
   },
   "outputs": [
    {
     "name": "stdout",
     "output_type": "stream",
     "text": [
      "     LabelsNew  Survived  PassengerId\n",
      "0       Infant  0.846154           13\n",
      "1      Toddler  0.300000           10\n",
      "2        Child  0.561404           57\n",
      "3     Teenager  0.403226           62\n",
      "4  Young Adult  0.383838          198\n",
      "5        Adult  0.334337          332\n",
      "6   Middle-Age  0.390476          210\n",
      "7       Senior  0.125000            8\n"
     ]
    },
    {
     "data": {
      "text/plain": [
       "<matplotlib.text.Text at 0xbfc47f0>"
      ]
     },
     "execution_count": 21,
     "metadata": {},
     "output_type": "execute_result"
    },
    {
     "data": {
      "image/png": "[encoded data removed]",
      "text/plain": [
       "<matplotlib.figure.Figure at 0xc02f710>"
      ]
     },
     "metadata": {},
     "output_type": "display_data"
    }
   ],
   "source": [
    "#Disclaimer:https://discussions.udacity.com/t/plotting-bar-graph-with-range/168139,\n",
    "#http://stackoverflow.com/questions/22635110/sorting-the-order-of-bars-in-pandas-matplotlib-bar-plots\n",
    "\n",
    "# The average survival rate of passengers group by Llife stage groups\n",
    "LabelsSurNew = titanic_df.groupby(['LabelsNew']).mean()['Survived'].reset_index()\n",
    "AgeGroup = ['Infant','Toddler', 'Child', 'Teenager', 'Young Adult', 'Adult', 'Middle-Age', 'Senior']\n",
    "mapping = {LabelsNew: i for i, LabelsNew in enumerate(AgeGroup)}\n",
    "keyNew = LabelsSurNew['LabelsNew'].map(mapping)\n",
    "LabelsSurNew = LabelsSurNew.iloc[keyNew.argsort()]\n",
    "\n",
    "# Passenger counts group by Llife stage groups\n",
    "LabelsSur2New = titanic_df.groupby(['LabelsNew']).count()['PassengerId'].reset_index()\n",
    "AgeGroup = ['Infant','Toddler', 'Child', 'Teenager', 'Young Adult', 'Adult', 'Middle-Age', 'Senior']\n",
    "mapping = {LabelsNew: i for i, LabelsNew in enumerate(AgeGroup)}\n",
    "keyNew = LabelsSur2New['LabelsNew'].map(mapping)\n",
    "LabelsSur2New = LabelsSur2New.iloc[keyNew.argsort()]\n",
    "\n",
    "p4= pd.merge(LabelsSurNew,LabelsSur2New, on='LabelsNew')\n",
    "print p4\n",
    "import matplotlib.pyplot as plt\n",
    "%matplotlib inline\n",
    "\n",
    "# the bar plot for life stage groups\n",
    "axn = p4.plot(kind='bar', x='LabelsNew')\n",
    "ax2n = axn.twinx() # Create another axes that shares the same x-axis as ax.\n",
    "ax2n.plot(axn.get_xticks(),p4['Survived'].values, linestyle='-', marker='o', linewidth=2.0,color='blue')\n",
    "\n",
    "axn.set_ylabel('No. of passengers')\n",
    "ax2n.set_ylabel('Survival Rate')\n",
    "axn.set_xlabel('Life Stage Groups')"
   ]
  },
  {
   "cell_type": "code",
   "execution_count": 22,
   "metadata": {
    "collapsed": false
   },
   "outputs": [
    {
     "name": "stdout",
     "output_type": "stream",
     "text": [
      " Life Stage Data Set\n",
      "     LabelsNew  Survived  PassengerId        SD\n",
      "0       Infant  0.846154           13  2.025179\n",
      "1      Toddler  0.300000           10 -0.558471\n",
      "2        Child  0.561404           57  0.678131\n",
      "3     Teenager  0.403226           62 -0.070148\n",
      "4  Young Adult  0.383838          198 -0.161863\n",
      "5        Adult  0.334337          332 -0.396034\n",
      "6   Middle-Age  0.390476          210 -0.130462\n",
      "7       Senior  0.125000            8 -1.386331\n"
     ]
    }
   ],
   "source": [
    "#determine the standardized score for the survival rate of each age group\n",
    "\n",
    "def standardize(xs):\n",
    "    return (xs - xs.mean()) / xs.std()\n",
    "    \n",
    "p4['SD'] = standardize(p4['Survived'])\n",
    "\n",
    "print ' Life Stage Data Set'\n",
    "print p4"
   ]
  },
  {
   "cell_type": "markdown",
   "metadata": {},
   "source": [
    "Most of the passengers in this data set are young adults, adults and middle-age as shown in the graph: we added most of missing age data to the Adult group in the data wrangling stage. By standardising this data set, it shows the infant group and the child group demonstrate a high survival rate (standard deviation are both positive), whereas senior people mostly died from this incident (a strong negative standard deviation). "
   ]
  },
  {
   "cell_type": "markdown",
   "metadata": {},
   "source": [
    "<b> Does a higher fare lead to a higher survival rate? </b>"
   ]
  },
  {
   "cell_type": "code",
   "execution_count": 23,
   "metadata": {
    "collapsed": false
   },
   "outputs": [
    {
     "data": {
      "text/html": [
       "<div>\n",
       "<table border=\"1\" class=\"dataframe\">\n",
       "  <thead>\n",
       "    <tr style=\"text-align: right;\">\n",
       "      <th></th>\n",
       "      <th>FareCutoff</th>\n",
       "      <th>survival_Rate</th>\n",
       "    </tr>\n",
       "  </thead>\n",
       "  <tbody>\n",
       "    <tr>\n",
       "      <th>FareCutoff</th>\n",
       "      <td>1.000000</td>\n",
       "      <td>0.553116</td>\n",
       "    </tr>\n",
       "    <tr>\n",
       "      <th>survival_Rate</th>\n",
       "      <td>0.553116</td>\n",
       "      <td>1.000000</td>\n",
       "    </tr>\n",
       "  </tbody>\n",
       "</table>\n",
       "</div>"
      ],
      "text/plain": [
       "               FareCutoff  survival_Rate\n",
       "FareCutoff       1.000000       0.553116\n",
       "survival_Rate    0.553116       1.000000"
      ]
     },
     "execution_count": 23,
     "metadata": {},
     "output_type": "execute_result"
    },
    {
     "data": {
      "image/png": "[encoded data removed]",
      "text/plain": [
       "<matplotlib.figure.Figure at 0xc02f240>"
      ]
     },
     "metadata": {},
     "output_type": "display_data"
    }
   ],
   "source": [
    "# Create cuts to group fare in the range of 20\n",
    "cuts = [x for x in range(0, int(np.max(titanic_df.Fare) + 21)) if x % 20 == 0]\n",
    "\n",
    "# Apply the cuts in the data set\n",
    "titanic_df['FareCutoff'] = pd.cut(titanic_df['FareNew'], cuts, labels=cuts[:-1])\n",
    "\n",
    "# Groupby \"Survived\", \"FareCutoff\" by counts\n",
    "titanic_df4 = titanic_df.groupby([ \"Survived\", \"FareCutoff\"]).size().to_frame(name = 'count').reset_index()\n",
    "titanic_df5 = titanic_df4[titanic_df4['Survived']==1] # Counts for the survival passengers\n",
    "titanic_df6 =titanic_df.groupby([ \"FareCutoff\"] ).size().to_frame(name = 'count').reset_index() # Counts for total passengers\n",
    "\n",
    "p5 = pd.merge(titanic_df5,titanic_df6,on='FareCutoff') \n",
    "p5['survival_Rate'] = p5['count_x']/p5['count_y'] # create a new metric 'survival rate'\n",
    "\n",
    "p6=p5.drop(p5.columns[[0, 2, 3]], axis=1) # delete unnecessary columns\n",
    "\n",
    "# Use scatter plot to discover the relationship between fare and survival rate\n",
    "p6.plot(kind='scatter',x='FareCutoff', y='survival_Rate').set_yscale('log')\n",
    "\n",
    "# determine the correlation coefficient \n",
    "p6.corr()"
   ]
  },
  {
   "cell_type": "markdown",
   "metadata": {},
   "source": [
    "From the graph, it shows fare seems to have a positive correlation with the survival rate. However, a dip in the survival rate is seen between fare cutoff of 200-300. It is also notable few data outliners in the fare price of 480-500 as discovered before, and this fare group shows 100% survival rate. To dertermine the relationship between survival rate and fare, deploying Pearson correlation coefficients shows a +0.50 moderate uphill (positive) relationship is discovered between fare pricing and survival rate. However, we can't infer this conclusion in the population data, more statistical tests are required."
   ]
  },
  {
   "cell_type": "markdown",
   "metadata": {},
   "source": [
    "<b> Which gender is likely to survive?</b>"
   ]
  },
  {
   "cell_type": "code",
   "execution_count": 24,
   "metadata": {
    "collapsed": false
   },
   "outputs": [
    {
     "name": "stdout",
     "output_type": "stream",
     "text": [
      "Sex\n",
      "female    0.742038\n",
      "male      0.188908\n",
      "Name: Survived, dtype: float64\n"
     ]
    }
   ],
   "source": [
    "# plot the graph for the survival rate between men and women\n",
    "titanic_df4= titanic_df.groupby('Sex').mean()['Survived']\n",
    "print titanic_df4"
   ]
  },
  {
   "cell_type": "markdown",
   "metadata": {},
   "source": [
    "Female'survival rate is almost 3 times higher than male's in this data set. To find out if the survival rate between different genders is significant, the chi-squared goodness-of-fit test is utilised. The chi-squared goodness-of-fit test is used to determine whether there is a significant difference between the expected frequencies and the observed frequencies in one or more categories. The test dealing with categorical variables are based on variable counts instead of the actual value of the variables themselves."
   ]
  },
  {
   "cell_type": "markdown",
   "metadata": {},
   "source": [
    "Null hypothesis, H0: There is no difference in the survival rate between female and male (H0: μ f = μ m ).  <br>\n",
    "Alternative hypothesis, H1:There is difference in survival rate between female and male (H1: μ f ≠ μ m ). "
   ]
  },
  {
   "cell_type": "code",
   "execution_count": 25,
   "metadata": {
    "collapsed": false
   },
   "outputs": [
    {
     "name": "stdout",
     "output_type": "stream",
     "text": [
      "Female survival\n",
      "Survived\n",
      "0     81\n",
      "1    233\n",
      "Name: PassengerId, dtype: int64\n",
      "Male survival\n",
      "Survived\n",
      "0    468\n",
      "1    109\n",
      "Name: PassengerId, dtype: int64\n"
     ]
    }
   ],
   "source": [
    "# Disclaimer: some codes are referenced from http://hamelg.blogspot.co.uk/2015/11/python-for-data-analysis-part-25-chi.html\n",
    "\n",
    "# Create female survived data set\n",
    "rvs1 =titanic_df[titanic_df['Sex'] =='female']\n",
    "\n",
    "female_table = rvs1.groupby(['Survived']).count()['PassengerId']\n",
    "\n",
    "# Create male survived data set\n",
    "rvs2 =titanic_df[titanic_df['Sex'] =='male']\n",
    "male_table = rvs2.groupby(['Survived']).count()['PassengerId']\n",
    "\n",
    "print (\"Female survival\")\n",
    "print female_table\n",
    "print (\"Male survival\")\n",
    "print male_table"
   ]
  },
  {
   "cell_type": "code",
   "execution_count": 26,
   "metadata": {
    "collapsed": false
   },
   "outputs": [
    {
     "name": "stdout",
     "output_type": "stream",
     "text": [
      "expcted counts\n",
      "Survived\n",
      "0    254.682842\n",
      "1     59.317158\n",
      "Name: PassengerId, dtype: float64\n",
      "chi_squared_stat\n",
      "626.994112101\n"
     ]
    }
   ],
   "source": [
    "#In the formula, observed is the actual observed count for each category and expected is \n",
    "#the expected count based on the distribution of the population for the corresponding category. \n",
    "observed = female_table\n",
    "male_ratios = male_table/len(rvs2)  # Get male ratios\n",
    "expected = male_ratios * len(rvs1)   # Get expected counts\n",
    "print 'expcted counts'\n",
    "print expected\n",
    "chi_squared_stat = (((observed-expected)**2)/expected).sum()\n",
    "print 'chi_squared_stat'\n",
    "print(chi_squared_stat)"
   ]
  },
  {
   "cell_type": "markdown",
   "metadata": {},
   "source": [
    "Note: The chi-squared test assumes none of the expected counts are less than 5."
   ]
  },
  {
   "cell_type": "code",
   "execution_count": 27,
   "metadata": {
    "collapsed": false
   },
   "outputs": [
    {
     "name": "stdout",
     "output_type": "stream",
     "text": [
      "Critical value\n",
      "3.84145882069\n",
      "P value\n",
      "0.0\n"
     ]
    }
   ],
   "source": [
    "#The scipy library shorthand for the chi-square distribution is chi2\n",
    "crit = stats.chi2.ppf(q = 0.95, # Find the critical value for 95% confidence*\n",
    "                      df = 1)   # Df = number of variable categories - 1\n",
    "\n",
    "print(\"Critical value\")\n",
    "print(crit)\n",
    "\n",
    "p_value = 1 - stats.chi2.cdf(x=chi_squared_stat,  # Find the p-value\n",
    "                             df=1)\n",
    "print(\"P value\")\n",
    "print(p_value)"
   ]
  },
  {
   "cell_type": "markdown",
   "metadata": {},
   "source": [
    "Since our chi-squared statistic exceeds the critical value, we'd reject the null hypothesis that the two distributions are the same. A chi-squared goodness-of-fit test automatically using the scipy function scipy.stats.chisquare():"
   ]
  },
  {
   "cell_type": "code",
   "execution_count": 28,
   "metadata": {
    "collapsed": false
   },
   "outputs": [
    {
     "data": {
      "text/plain": [
       "Power_divergenceResult(statistic=626.99411210101175, pvalue=2.2520440119919079e-138)"
      ]
     },
     "execution_count": 28,
     "metadata": {},
     "output_type": "execute_result"
    }
   ],
   "source": [
    "stats.chisquare(f_obs= observed,   # Array of observed counts\n",
    "                f_exp= expected)   # Array of expected counts"
   ]
  },
  {
   "cell_type": "markdown",
   "metadata": {
    "collapsed": true
   },
   "source": [
    "Chi-squared statistic value is around 627. For a confidence level of 95%, t critical values are 3.84145882069.\n",
    "The decision is to reject null hypothesis that the null hypothesis that two distributions are the same.  There is a difference in survival rate between female and male. Due to a positive chi-squared statistic value, so we can infer the female's survival rate is greater than male's survival rate.</b>\n"
   ]
  },
  {
   "cell_type": "markdown",
   "metadata": {},
   "source": [
    "<b>Stage 5: Conclusions Phase </b>"
   ]
  },
  {
   "cell_type": "markdown",
   "metadata": {
    "collapsed": true,
    "scrolled": true
   },
   "source": [
    "We can infer female's survival rate should be different than male's survival rate with a 95% of confidence level because chi-squared statistic value is bigger than t critical value. Due to a positive chi-squared statistic value, we can also conclude that the female's survival rate is greater than male's survival rate.\n",
    "\n",
    "Some conclusions can be drawn only based on this data set, but not the whole population mean: we see the infant group and the child group demonstrate a high survival rate (standard deviation are both positive), whereas senior people mostly died from this incident (a strong negative standard deviation). The teenage group's survival rate is very close to the average of the whole sample data set, as the standard deviation is very close to 0. The last but not the least, there is a moderate positive relationship between fare pricing and survival rate, which means a moderate uphill trend of survival rate can be discovered if the fare is increased."
   ]
  }
 ],
 "metadata": {
  "anaconda-cloud": {},
  "celltoolbar": "Raw Cell Format",
  "kernelspec": {
   "display_name": "Python [Root]",
   "language": "python",
   "name": "Python [Root]"
  },
  "language_info": {
   "codemirror_mode": {
    "name": "ipython",
    "version": 2
   },
   "file_extension": ".py",
   "mimetype": "text/x-python",
   "name": "python",
   "nbconvert_exporter": "python",
   "pygments_lexer": "ipython2",
   "version": "2.7.12"
  }
 },
 "nbformat": 4,
 "nbformat_minor": 0
}
