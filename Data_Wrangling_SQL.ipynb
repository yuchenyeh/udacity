{
 "cells": [
  {
   "cell_type": "markdown",
   "metadata": {},
   "source": [
    "### OpenStreetMap Data Wrangling with SQL"
   ]
  },
  {
   "cell_type": "markdown",
   "metadata": {},
   "source": [
    "### Map Area:\n",
    "London, United Kingdom\n",
    "\n",
    "Source: <br>\n",
    "https://www.openstreetmap.org/relation/65606#map=10/51.4904/-0.0879 <br>\n",
    "https://mapzen.com/data/metro-extracts/metro/london_england/"
   ]
  },
  {
   "cell_type": "markdown",
   "metadata": {},
   "source": [
    "### Problems Encountered in the Map"
   ]
  },
  {
   "cell_type": "markdown",
   "metadata": {},
   "source": [
    "After downloading a small sample size of the London area and running it against a data.py file, there are 4 main problems with the data:\n",
    "\n",
    "1. Missing user values and uid in nodes (node changeset=\"120938\" id=\"16713489\" lat=\"51.9539579\" lon=\"-0.1707352\" timestamp=\"2006-09-26T17:25:23Z\" version=\"1\")\n",
    "\n",
    "2. Several data (e.g. ddress and naptan in nodes_tags; source and building in ways_tags) are divided into segments in sub levels “k” tags with the following format: (tag k=\"addr:city\" v=\"London\")\n",
    "\n",
    "3. Inconsistent street names ( \"BLACKWALL TUNNEL NORTHERN APPROACH\",\"Victoria Road South\")\n",
    "\t\n",
    "4. Duplicate key values with different spellings (postal_code vs postcode, uri vs url)"
   ]
  },
  {
   "cell_type": "markdown",
   "metadata": {},
   "source": [
    "<b>1. Missing user value and uid </b>"
   ]
  },
  {
   "cell_type": "markdown",
   "metadata": {},
   "source": [
    "When running the data.py file, KeyError: 'user' was returned. It is due to missing user values in the nodes. To deal with this issue, I used 'try except' to catch the error and set the missing values to be 'na'."
   ]
  },
  {
   "cell_type": "code",
   "execution_count": null,
   "metadata": {
    "collapsed": true
   },
   "outputs": [],
   "source": [
    "    if element.tag == 'node':\n",
    "        for node in NODE_FIELDS:\n",
    "            try:\n",
    "                node_attribs[node] = element.attrib[node]\n",
    "            except Exception:\n",
    "                node_attribs[node] = 'na'"
   ]
  },
  {
   "cell_type": "markdown",
   "metadata": {},
   "source": [
    "After wrangling, (node changeset=\"120938\" id=\"16713489\" lat=\"51.9539579\" lon=\"-0.1707352\" timestamp=\"2006-09-26T17:25:23Z\" version=\"1\") is updated as follows:\n",
    "\n",
    "<table style=\"width:100%\">\n",
    "  <tr>\n",
    "    <th>id</th>\n",
    "    <th>lat</th> \n",
    "    <th>lon</th>\n",
    "    <th>user</th>\n",
    "    <th>uid</th> \n",
    "    <th>version</th>\n",
    "    <th>changeset</th> \n",
    "    <th>timestamp</th>\n",
    "  </tr>\n",
    "  <tr>\n",
    "    <th>76733867</th>\n",
    "    <th>51.9102213</th> \n",
    "    <th>-0.5476516</th>\n",
    "    <th>na</th>\n",
    "    <th>na</th> \n",
    "    <th>1</th>\n",
    "    <th>226900</th> \n",
    "    <th>2007-10-17T20:43:23Z</th>\n",
    "  </tr>\n",
    "</table>\n",
    "\n",
    "\t\t\t\t\t\t\t\n",
    "\t\t\t\t\t\t\t\n"
   ]
  },
  {
   "cell_type": "markdown",
   "metadata": {
    "collapsed": true
   },
   "source": [
    "<b> 2. Data groups are divided into segments in sub levels of “k” tags </b>"
   ]
  },
  {
   "cell_type": "markdown",
   "metadata": {},
   "source": [
    "\"K\" tags in the second level store detailed data groups for address, building, etc. In order to better to understand second-level data, I delimited the data by ':' and leave the sub-level in the key tag and the first level of data in type tag."
   ]
  },
  {
   "cell_type": "code",
   "execution_count": null,
   "metadata": {
    "collapsed": true
   },
   "outputs": [],
   "source": [
    "elif LOWER_COLON.search(child.attrib[\"k\"]):\n",
    "     tag_type = child.attrib[\"k\"].split(':',1)[0]\n",
    "     tag_key = child.attrib[\"k\"].split(':',1)[1]\n",
    "     tag[\"key\"] = tag_key\n",
    "     tag[\"type\"] = tag_type\n",
    "     tag[\"id\"] = element.attrib[\"id\"]\n",
    "     tag[\"value\"] = child.attrib[\"v\"]"
   ]
  },
  {
   "cell_type": "markdown",
   "metadata": {},
   "source": [
    "After wrangling, the data looks like:"
   ]
  },
  {
   "cell_type": "markdown",
   "metadata": {},
   "source": [
    "<table style=\"width:100%\">\n",
    "  <tr>\n",
    "    <th>id</th>\n",
    "    <th>key</th> \n",
    "    <th>value</th>\n",
    "    <th>type</th>\n",
    "  </tr>\n",
    "  <tr>\n",
    "    <th>311835538</th>\n",
    "    <th>city</th> \n",
    "    <th>Maidstone</th>\n",
    "    <th>addr</th>\n",
    "  </tr>\n",
    " \n",
    "</table>"
   ]
  },
  {
   "cell_type": "markdown",
   "metadata": {},
   "source": [
    "In the nodes_tags, naptan data still didn't get separated properly. For example, tag k=\"naptan:Street\" v=\"STATION APPROACH\".\n",
    "The problem is the original regex of LOWER_COLON would not match the values that the first letter after colon(:) is upper case. Therefore, the solution is to include a match of upper case and lower case.\n",
    "\n",
    "LOWER_COLON = re.compile(r'^([a-zA-Z]|_)+:([a-zA-Z]|_)+')"
   ]
  },
  {
   "cell_type": "markdown",
   "metadata": {},
   "source": [
    "Furthermore, some of the key values are segmented into three levels, and they would not be separated properly in the key values. For example, \n",
    "tag k=\"seamark:light:character\" v=\"Q\" <br>\n",
    "\n",
    "Using the following code to pass the third level value into key values and keep the first and second level into the tag type. This ensures we have a similar format in the key tag."
   ]
  },
  {
   "cell_type": "code",
   "execution_count": null,
   "metadata": {
    "collapsed": true
   },
   "outputs": [],
   "source": [
    "tag_type = child.attrib[\"k\"].split(':',1)[0]\n",
    "tag_key = child.attrib[\"k\"].split(':',1)[1]\n",
    "try:\n",
    "    tag_extra = tag_key.split(':',1)[1]\n",
    "    tag_key =tag_extra\n",
    "    tag_type = child.attrib[\"k\"].split(':',1)[0] +':' +tag_key.split(':',1)[0]\n",
    "except Exception:\n",
    "    pass"
   ]
  },
  {
   "cell_type": "markdown",
   "metadata": {},
   "source": [
    "With this wrangling code, the key values that have three levels look like:"
   ]
  },
  {
   "cell_type": "markdown",
   "metadata": {},
   "source": [
    "<table style=\"width:100%\">\n",
    "  <tr>\n",
    "    <th>id</th>\n",
    "    <th>key</th> \n",
    "    <th>value</th>\n",
    "    <th>type</th>\n",
    "  </tr>\n",
    "  <tr>\n",
    "    <th>1413554521</th>\n",
    "    <th>character</th> \n",
    "    <th>Q</th>\n",
    "    <th>seamark:character\n",
    "</th>\n",
    "  </tr>\n",
    " \n",
    "</table>"
   ]
  },
  {
   "cell_type": "markdown",
   "metadata": {},
   "source": [
    "<b>3. Inconsistent street names</b>"
   ]
  },
  {
   "cell_type": "markdown",
   "metadata": {},
   "source": [
    "Street names were entered in inconsistent letter cases:\n",
    "    \n",
    "tag k=\"naptan:Street\" v=\"BLACKWALL TUNNEL NORTHERN APPROACH\"  <br>\n",
    "tag k=\"naptan:Street\" v=\"Victoria Road South\"\n",
    "\n",
    "I used function update_street() to update the street values to be capital on the first letter:"
   ]
  },
  {
   "cell_type": "markdown",
   "metadata": {},
   "source": [
    "STREET = ['street','Street']\n",
    "\n",
    "\n",
    "def update_street(street):\n",
    "    street = street.title()\n",
    "    return street\n",
    "          \n",
    "if tag_key in STREET:\n",
    "    tag[\"value\"]=update_street(child.attrib['v'])\n",
    "    tag[\"key\"] = tag_key\n",
    "    tag[\"id\"] = element.attrib[\"id\"]\n",
    "    tag[\"type\"] = tag_type"
   ]
  },
  {
   "cell_type": "markdown",
   "metadata": {
    "collapsed": true
   },
   "source": [
    "<table style=\"width:100%\">\n",
    "  <tr>\n",
    "    <th>id</th>\n",
    "    <th>key</th> \n",
    "    <th>value</th>\n",
    "    <th>type</th>\n",
    "  </tr>\n",
    "  <tr>\n",
    "    <th>4042892954</th>\n",
    "    <th>Street</th> \n",
    "    <th>Blackwall Tunnel Northern Approach</th>\n",
    "    <th>naptan</th>\n",
    "  </tr>\n",
    " \n",
    "</table>"
   ]
  },
  {
   "cell_type": "markdown",
   "metadata": {},
   "source": [
    "<b>4. Duplicate key values with different spellings</b>"
   ]
  },
  {
   "cell_type": "markdown",
   "metadata": {},
   "source": [
    "postal_code vs postcode \n",
    "\n",
    "tag k=\"postal_code\" v=\"ME19 6AJ\" <br>\n",
    "tag k=\"addr:postcode\" v=\"RH1 1DW\"\n"
   ]
  },
  {
   "cell_type": "markdown",
   "metadata": {},
   "source": [
    "uri vs url <br>\n",
    "\n",
    "tag k=\"uri\" v=\"http://www.rbkc.gov.uk/az/az.asp?orgid=1767\" <br>\n",
    "tag k=\"url\" v=\"www.architecturalplants.com\" \n",
    "\n",
    "I updated the values with one version of each key using the following code:"
   ]
  },
  {
   "cell_type": "markdown",
   "metadata": {},
   "source": [
    "if  tag[\"key\"] == 'postal_code':\n",
    "    tag[\"key\"] = 'postcode'\n",
    "if  tag[\"key\"] == 'uri':\n",
    "    tag[\"key\"] = 'url'"
   ]
  },
  {
   "cell_type": "markdown",
   "metadata": {},
   "source": [
    "### Data Overview"
   ]
  },
  {
   "cell_type": "markdown",
   "metadata": {},
   "source": [
    "This section contains basic statistics about the dataset, the SQL queries used to gather them, and some additional ideas about the data in context."
   ]
  },
  {
   "cell_type": "markdown",
   "metadata": {},
   "source": [
    "<b>File sizes</b>"
   ]
  },
  {
   "cell_type": "code",
   "execution_count": 1,
   "metadata": {
    "collapsed": false
   },
   "outputs": [
    {
     "name": "stdout",
     "output_type": "stream",
     "text": [
      "london_england.osm   2558.0 MB\n",
      "nodes.csv   18.0 MB\n",
      "sample4.osm   51.0 MB\n",
      "ways.csv   1.0 MB\n",
      "ways_nodes.csv   6.0 MB\n",
      "ways_tags.csv   3.0 MB\n",
      "sample4.osm   51.0 MB\n"
     ]
    }
   ],
   "source": [
    "import os\n",
    "folder = 'C:\\\\sqlite_windows'\n",
    "folder_size = 0\n",
    "file_name = ['london_england.osm','sample4.osm','nodes.csv',\n",
    "             'nodes.tags.csv','ways.csv','ways_nodes.csv','ways_tags.csv']\n",
    "for (path, dirs, files) in os.walk(folder):\n",
    "  for file in files:\n",
    "    if file in file_name:\n",
    "        filename = os.path.join(path, file)\n",
    "        folder_size = os.path.getsize(filename)\n",
    "        print file + \"   %0.1f MB\" % (folder_size/(1000*1000))    \n",
    "    else:\n",
    "        continue"
   ]
  },
  {
   "cell_type": "markdown",
   "metadata": {},
   "source": [
    "<b>Number of nodes</b>"
   ]
  },
  {
   "cell_type": "code",
   "execution_count": 2,
   "metadata": {
    "collapsed": false
   },
   "outputs": [
    {
     "name": "stdout",
     "output_type": "stream",
     "text": [
      "226966\n"
     ]
    }
   ],
   "source": [
    "import sqlite3\n",
    "from pprint import pprint\n",
    "\n",
    "sqlite_file = 'data.db'\n",
    "\n",
    "conn = sqlite3.connect(sqlite_file)\n",
    "c = conn.cursor()\n",
    "c.execute( 'SELECT count(*) FROM nodes ')\n",
    "\n",
    "for row in c:\n",
    "    print(row[0])\n"
   ]
  },
  {
   "cell_type": "markdown",
   "metadata": {},
   "source": [
    "<b>Number of ways </b>"
   ]
  },
  {
   "cell_type": "code",
   "execution_count": 3,
   "metadata": {
    "collapsed": false
   },
   "outputs": [
    {
     "name": "stdout",
     "output_type": "stream",
     "text": [
      "32450\n"
     ]
    }
   ],
   "source": [
    "c.execute( 'SELECT count(*) FROM ways')\n",
    "\n",
    "for row in c:\n",
    "    print(row[0])"
   ]
  },
  {
   "cell_type": "markdown",
   "metadata": {},
   "source": [
    "<b>Number of unique tags in nodes</b>"
   ]
  },
  {
   "cell_type": "code",
   "execution_count": 4,
   "metadata": {
    "collapsed": false
   },
   "outputs": [
    {
     "name": "stdout",
     "output_type": "stream",
     "text": [
      "368\n"
     ]
    }
   ],
   "source": [
    "c.execute( 'SELECT count(distinct key) FROM nodes_tags')\n",
    "\n",
    "for row in c:\n",
    "    print(row[0])"
   ]
  },
  {
   "cell_type": "markdown",
   "metadata": {},
   "source": [
    "<b>Number of unique tags in ways</b>"
   ]
  },
  {
   "cell_type": "code",
   "execution_count": 5,
   "metadata": {
    "collapsed": false
   },
   "outputs": [
    {
     "name": "stdout",
     "output_type": "stream",
     "text": [
      "474\n"
     ]
    }
   ],
   "source": [
    "c.execute( 'SELECT count(distinct key) FROM ways_tags')\n",
    "\n",
    "for row in c:\n",
    "    print(row[0])"
   ]
  },
  {
   "cell_type": "markdown",
   "metadata": {},
   "source": [
    "<b>Top 10 used tags</b>"
   ]
  },
  {
   "cell_type": "code",
   "execution_count": 6,
   "metadata": {
    "collapsed": false
   },
   "outputs": [
    {
     "name": "stdout",
     "output_type": "stream",
     "text": [
      "(u'building', 15096)\n",
      "(u'highway', 14272)\n",
      "(u'name', 10773)\n",
      "(u'source', 10281)\n",
      "(u'created_by', 5063)\n",
      "(u'housenumber', 4597)\n",
      "(u'street', 4374)\n",
      "(u'natural', 3018)\n",
      "(u'maxspeed', 2849)\n",
      "(u'city', 2383)\n"
     ]
    }
   ],
   "source": [
    "c.execute( '''SELECT e.key, COUNT(*) as num\n",
    "FROM (SELECT key FROM nodes_tags UNION ALL SELECT key FROM ways_tags) e\n",
    "GROUP BY e.key\n",
    "ORDER BY num DESC\n",
    "LIMIT 10;''')\n",
    "for row in c:\n",
    "    print(row)"
   ]
  },
  {
   "cell_type": "markdown",
   "metadata": {},
   "source": [
    "<b> Number of unique users </b>"
   ]
  },
  {
   "cell_type": "code",
   "execution_count": 7,
   "metadata": {
    "collapsed": false
   },
   "outputs": [
    {
     "name": "stdout",
     "output_type": "stream",
     "text": [
      "3381\n"
     ]
    }
   ],
   "source": [
    "c.execute( '''SELECT COUNT(DISTINCT(e.uid))          \n",
    "FROM (SELECT uid FROM nodes UNION ALL SELECT uid FROM ways) e;''')\n",
    "\n",
    "for row in c:\n",
    "    print(row[0])"
   ]
  },
  {
   "cell_type": "markdown",
   "metadata": {},
   "source": [
    "<b> Top 10 contributing users </b>"
   ]
  },
  {
   "cell_type": "code",
   "execution_count": 8,
   "metadata": {
    "collapsed": false
   },
   "outputs": [
    {
     "name": "stdout",
     "output_type": "stream",
     "text": [
      "(u'The Maarssen Mapper', 9555)\n",
      "(u'Eriks Zelenka', 9152)\n",
      "(u'TimSC_Data_CC0_To_Andy_Allan', 8939)\n",
      "(u'ca_hoot', 7240)\n",
      "(u'Johnmb', 7164)\n",
      "(u'busdoc', 7129)\n",
      "(u'Essex_Boy', 5979)\n",
      "(u'DanGregory', 5309)\n",
      "(u'c2r', 4631)\n",
      "(u'Rondon237', 4104)\n"
     ]
    }
   ],
   "source": [
    "c.execute( '''SELECT e.user, COUNT(*) as num\n",
    "FROM (SELECT user FROM nodes UNION ALL SELECT user FROM ways) e\n",
    "GROUP BY e.user\n",
    "ORDER BY num DESC\n",
    "LIMIT 10;''')\n",
    "for row in c:\n",
    "    print(row)"
   ]
  },
  {
   "cell_type": "markdown",
   "metadata": {},
   "source": [
    "<b>Top 5 used values in the node tag of highways</b>"
   ]
  },
  {
   "cell_type": "code",
   "execution_count": 9,
   "metadata": {
    "collapsed": false
   },
   "outputs": [
    {
     "name": "stdout",
     "output_type": "stream",
     "text": [
      "[(u'bus_stop', 901),\n",
      " (u'crossing', 414),\n",
      " (u'traffic_signals', 181),\n",
      " (u'turning_circle', 80),\n",
      " (u'mini_roundabout', 65)]\n"
     ]
    }
   ],
   "source": [
    "c.execute( '''SELECT value, count(*) as num FROM nodes_tags\n",
    "WHERE key ='highway'\n",
    "GROUP BY value\n",
    "ORDER BY num desc\n",
    "Limit 5;\n",
    " ''')\n",
    "\n",
    "all = c.fetchall()\n",
    "pprint(all)\n"
   ]
  },
  {
   "cell_type": "markdown",
   "metadata": {},
   "source": [
    "<b>Most prevalent tourism type</b>"
   ]
  },
  {
   "cell_type": "code",
   "execution_count": 10,
   "metadata": {
    "collapsed": false
   },
   "outputs": [
    {
     "name": "stdout",
     "output_type": "stream",
     "text": [
      "[(u'information', 20)]\n"
     ]
    }
   ],
   "source": [
    "c.execute( '''SELECT value, count(*) as num FROM nodes_tags\n",
    "WHERE key ='tourism'\n",
    "GROUP BY value\n",
    "ORDER BY num desc\n",
    "Limit 1;\n",
    " ''')\n",
    "\n",
    "all = c.fetchall()\n",
    "pprint(all)"
   ]
  },
  {
   "cell_type": "markdown",
   "metadata": {},
   "source": [
    "### Other ideas about the datasets"
   ]
  },
  {
   "cell_type": "markdown",
   "metadata": {},
   "source": [
    "<b>Posts by user counts</b>"
   ]
  },
  {
   "cell_type": "code",
   "execution_count": 11,
   "metadata": {
    "collapsed": false
   },
   "outputs": [
    {
     "ename": "NameError",
     "evalue": "name 'count_all' is not defined",
     "output_type": "error",
     "traceback": [
      "\u001b[1;31m-------------------------------------------------------\u001b[0m",
      "\u001b[1;31mNameError\u001b[0m             Traceback (most recent call last)",
      "\u001b[1;32m<ipython-input-11-a214be878df9>\u001b[0m in \u001b[0;36m<module>\u001b[1;34m()\u001b[0m\n\u001b[0;32m     36\u001b[0m \u001b[1;33m\u001b[0m\u001b[0m\n\u001b[0;32m     37\u001b[0m \u001b[1;31m# calculate user percentage\u001b[0m\u001b[1;33m\u001b[0m\u001b[1;33m\u001b[0m\u001b[0m\n\u001b[1;32m---> 38\u001b[1;33m \u001b[0mdf2\u001b[0m\u001b[1;33m[\u001b[0m\u001b[1;34m'Percentage'\u001b[0m\u001b[1;33m]\u001b[0m\u001b[1;33m=\u001b[0m\u001b[0mdf2\u001b[0m\u001b[1;33m[\u001b[0m\u001b[1;34m'User_counts'\u001b[0m\u001b[1;33m]\u001b[0m\u001b[1;33m/\u001b[0m\u001b[0mcount_all\u001b[0m\u001b[1;33m*\u001b[0m\u001b[1;36m100\u001b[0m\u001b[1;33m\u001b[0m\u001b[0m\n\u001b[0m\u001b[0;32m     39\u001b[0m \u001b[1;32mprint\u001b[0m \u001b[0mdf2\u001b[0m\u001b[1;33m\u001b[0m\u001b[0m\n\u001b[0;32m     40\u001b[0m \u001b[1;33m\u001b[0m\u001b[0m\n",
      "\u001b[1;31mNameError\u001b[0m: name 'count_all' is not defined"
     ]
    }
   ],
   "source": [
    "c.execute( '''\n",
    "    SELECT a.num, count(distinct a.user)\n",
    "    FROM\n",
    "    (SELECT e.user, COUNT(*) as num\n",
    "     FROM (SELECT user FROM nodes UNION ALL SELECT user FROM ways) e\n",
    "     GROUP BY e.user) a\n",
    "     group by a.num\n",
    "       ;''')\n",
    "\n",
    "import pandas as pd\n",
    "import numpy as np\n",
    "import matplotlib.pyplot as plt\n",
    "%matplotlib inline\n",
    "\n",
    "data =[]\n",
    "for row in c:\n",
    "    data.append(row)\n",
    "    \n",
    "#put the data in a dataframe\n",
    "df = pd.DataFrame(data)\n",
    "\n",
    "# define the bin groups for posts\n",
    "def cutDF(df):\n",
    "    return pd.cut(df,[0,1, 10, 20, 30, 40,50,60,70,80,90,100,1000,10000000000000], \n",
    "                  labels=[ '1','2-10','10~', '20~', '30~', '40~','50~','60~','70~','80~','90~','100~','1000~'])\n",
    "\n",
    "df.rename(columns={0:'Post',1:'User_counts'}, inplace=True)\n",
    "df['Post_counts'] = df[['Post']].apply(cutDF)\n",
    "df2= df.groupby(['Post_counts']).sum()['User_counts'].reset_index()\n",
    "\n",
    "# Sort the dataframe by 'Post_counts'\n",
    "Group = [ '1','2-10','10~', '20~', '30~', '40~','50~','60~','70~','80~','90~','100~','1000~']\n",
    "mapping = {df2: i for i, df2 in enumerate(Group)}\n",
    "key = df2['Post_counts'].map(mapping)\n",
    "df2 = df2.iloc[key.argsort()]\n",
    "\n",
    "# calculate user percentage \n",
    "df2['Percentage']=df2['User_counts']/count_all*100\n",
    "print df2\n",
    "\n",
    "# draw the bar graph\n",
    "show = df2.plot(kind='bar', x='Post_counts',y='User_counts')\n",
    "show.set_xlabel('post counts')\n",
    "show.set_ylabel('no. users')\n",
    "show.set_title('Number of posts by user counts')"
   ]
  },
  {
   "cell_type": "markdown",
   "metadata": {
    "collapsed": true
   },
   "source": [
    "1197 users only posted once, and 1287 users posted between 2 and 10 posts. Less than 30% of users contributed more than 10 posts."
   ]
  },
  {
   "cell_type": "markdown",
   "metadata": {},
   "source": [
    "<b> User contribution</b>"
   ]
  },
  {
   "cell_type": "markdown",
   "metadata": {},
   "source": [
    "Around 73% of users posted 10 times or less, and actually 35% only posted once. To motivate users to contribute more in the open street projects, we should build in a contribution chart in each map area. For example, 'The Maarssen Mapper' won the top contributor in the London area. This would make people feel that the contribution is recognised."
   ]
  },
  {
   "cell_type": "markdown",
   "metadata": {},
   "source": [
    "<b>Conclusion</b>"
   ]
  },
  {
   "cell_type": "markdown",
   "metadata": {
    "collapsed": true
   },
   "source": [
    "The data of the London area is imperfect, and the issues related to missing user values, details of data divided into segments in the “k” tags, inconsistent street names and duplicate key values. Most of data are cleaned up after wrangling. \n",
    "\n",
    "It is interesting to see 35% users only posted once, and les than 30% of users contributed more than 10 posts. If we include a contribution chart in each map area to announce top contributor, we may improve user contribution due to better contribution regconistion. \n",
    "\n",
    "If we can build in a pre-defined list of key tags, we could improve the data quality and have a great amount of cleaned data to OpenStreetMap.org."
   ]
  }
 ],
 "metadata": {
  "anaconda-cloud": {},
  "kernelspec": {
   "display_name": "Python [Root]",
   "language": "python",
   "name": "Python [Root]"
  },
  "language_info": {
   "codemirror_mode": {
    "name": "ipython",
    "version": 2
   },
   "file_extension": ".py",
   "mimetype": "text/x-python",
   "name": "python",
   "nbconvert_exporter": "python",
   "pygments_lexer": "ipython2",
   "version": "2.7.12"
  }
 },
 "nbformat": 4,
 "nbformat_minor": 0
}
